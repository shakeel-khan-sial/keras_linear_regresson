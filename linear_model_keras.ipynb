{
 "cells": [
  {
   "cell_type": "markdown",
   "id": "4678b130",
   "metadata": {},
   "source": [
    "# Linear Regression Model using Keras"
   ]
  },
  {
   "cell_type": "code",
   "execution_count": 27,
   "id": "ab773254",
   "metadata": {},
   "outputs": [],
   "source": [
    "# imports\n",
    "import keras\n",
    "from keras.models import Sequential\n",
    "from keras.layers import Dense, Activation\n",
    "import numpy as np\n",
    "import matplotlib.pyplot as plt"
   ]
  },
  {
   "cell_type": "code",
   "execution_count": 28,
   "id": "ce05dd82",
   "metadata": {},
   "outputs": [],
   "source": [
    "# data generation\n",
    "x = data = np.linspace(1,5,1200)\n",
    "y = x*4 + np.random.rand(*x.shape)* 0.3"
   ]
  },
  {
   "cell_type": "code",
   "execution_count": 33,
   "id": "024c1d40",
   "metadata": {},
   "outputs": [
    {
     "data": {
      "text/plain": [
       "array([ 4.06820717,  4.1476852 ,  4.19515763, ..., 20.13908598,\n",
       "       20.28647   , 20.19203159])"
      ]
     },
     "execution_count": 33,
     "metadata": {},
     "output_type": "execute_result"
    }
   ],
   "source": [
    "y\n"
   ]
  },
  {
   "cell_type": "markdown",
   "id": "4156810f",
   "metadata": {},
   "source": [
    "# Custom Model Building with one layer"
   ]
  },
  {
   "cell_type": "code",
   "execution_count": 9,
   "id": "305fef83",
   "metadata": {},
   "outputs": [],
   "source": [
    "model = Sequential()\n",
    "model.add(Dense(1, input_dim=1, activation='linear'))"
   ]
  },
  {
   "cell_type": "code",
   "execution_count": 10,
   "id": "d7ef6017",
   "metadata": {},
   "outputs": [
    {
     "name": "stdout",
     "output_type": "stream",
     "text": [
      "Model: \"sequential_2\"\n",
      "_________________________________________________________________\n",
      " Layer (type)                Output Shape              Param #   \n",
      "=================================================================\n",
      " dense (Dense)               (None, 1)                 2         \n",
      "                                                                 \n",
      "=================================================================\n",
      "Total params: 2\n",
      "Trainable params: 2\n",
      "Non-trainable params: 0\n",
      "_________________________________________________________________\n"
     ]
    }
   ],
   "source": [
    "model.summary()"
   ]
  },
  {
   "cell_type": "markdown",
   "id": "a5260a75",
   "metadata": {},
   "source": [
    "## Training and Testing"
   ]
  },
  {
   "cell_type": "code",
   "execution_count": 11,
   "id": "ed50730f",
   "metadata": {},
   "outputs": [],
   "source": [
    "model.compile(optimizer='sgd', loss='mse', metrics = ['mse'])"
   ]
  },
  {
   "cell_type": "code",
   "execution_count": 12,
   "id": "f5c3c77d",
   "metadata": {},
   "outputs": [],
   "source": [
    "weights = model.layers[0].get_weights()"
   ]
  },
  {
   "cell_type": "code",
   "execution_count": 13,
   "id": "4ba30ab8",
   "metadata": {},
   "outputs": [],
   "source": [
    "w_init = weights[0][0][0]"
   ]
  },
  {
   "cell_type": "code",
   "execution_count": 14,
   "id": "5ee501ec",
   "metadata": {},
   "outputs": [],
   "source": [
    "b_init = weights[1][0]"
   ]
  },
  {
   "cell_type": "code",
   "execution_count": 17,
   "id": "b061faf1",
   "metadata": {},
   "outputs": [
    {
     "name": "stdout",
     "output_type": "stream",
     "text": [
      "linear regression model is initialized with weights w: 0.42, b: 0.00\n"
     ]
    }
   ],
   "source": [
    "print('linear regression model is initialized with weights w: %.2f, b: %.2f' % (w_init, b_init))"
   ]
  },
  {
   "cell_type": "code",
   "execution_count": 18,
   "id": "084d8bb7",
   "metadata": {},
   "outputs": [
    {
     "name": "stdout",
     "output_type": "stream",
     "text": [
      "Epoch 1/100\n",
      "200/200 [==============================] - 1s 3ms/step - loss: 0.9844 - mse: 0.9844\n",
      "Epoch 2/100\n",
      "200/200 [==============================] - 1s 3ms/step - loss: 0.0604 - mse: 0.0604\n",
      "Epoch 3/100\n",
      "200/200 [==============================] - 1s 3ms/step - loss: 0.0563 - mse: 0.0563\n",
      "Epoch 4/100\n",
      "200/200 [==============================] - 1s 3ms/step - loss: 0.0524 - mse: 0.0524\n",
      "Epoch 5/100\n",
      "200/200 [==============================] - 1s 3ms/step - loss: 0.0489 - mse: 0.0489\n",
      "Epoch 6/100\n",
      "200/200 [==============================] - 1s 3ms/step - loss: 0.0457 - mse: 0.0457\n",
      "Epoch 7/100\n",
      "200/200 [==============================] - 1s 3ms/step - loss: 0.0427 - mse: 0.0427\n",
      "Epoch 8/100\n",
      "200/200 [==============================] - 1s 3ms/step - loss: 0.0400 - mse: 0.0400\n",
      "Epoch 9/100\n",
      "200/200 [==============================] - 1s 3ms/step - loss: 0.0374 - mse: 0.0374\n",
      "Epoch 10/100\n",
      "200/200 [==============================] - 1s 3ms/step - loss: 0.0351 - mse: 0.0351\n",
      "Epoch 11/100\n",
      "200/200 [==============================] - 1s 3ms/step - loss: 0.0330 - mse: 0.0330\n",
      "Epoch 12/100\n",
      "200/200 [==============================] - 1s 3ms/step - loss: 0.0310 - mse: 0.0310\n",
      "Epoch 13/100\n",
      "200/200 [==============================] - 1s 3ms/step - loss: 0.0292 - mse: 0.0292\n",
      "Epoch 14/100\n",
      "200/200 [==============================] - 1s 3ms/step - loss: 0.0275 - mse: 0.0275\n",
      "Epoch 15/100\n",
      "200/200 [==============================] - 1s 3ms/step - loss: 0.0260 - mse: 0.0260\n",
      "Epoch 16/100\n",
      "200/200 [==============================] - 1s 3ms/step - loss: 0.0246 - mse: 0.0246\n",
      "Epoch 17/100\n",
      "200/200 [==============================] - 1s 3ms/step - loss: 0.0233 - mse: 0.0233\n",
      "Epoch 18/100\n",
      "200/200 [==============================] - 1s 3ms/step - loss: 0.0221 - mse: 0.0221\n",
      "Epoch 19/100\n",
      "200/200 [==============================] - 1s 3ms/step - loss: 0.0210 - mse: 0.0210\n",
      "Epoch 20/100\n",
      "200/200 [==============================] - 1s 3ms/step - loss: 0.0200 - mse: 0.0200\n",
      "Epoch 21/100\n",
      "200/200 [==============================] - 1s 3ms/step - loss: 0.0190 - mse: 0.0190\n",
      "Epoch 22/100\n",
      "200/200 [==============================] - 1s 3ms/step - loss: 0.0182 - mse: 0.0182\n",
      "Epoch 23/100\n",
      "200/200 [==============================] - 1s 3ms/step - loss: 0.0174 - mse: 0.0174\n",
      "Epoch 24/100\n",
      "200/200 [==============================] - 1s 3ms/step - loss: 0.0167 - mse: 0.0167\n",
      "Epoch 25/100\n",
      "200/200 [==============================] - 1s 3ms/step - loss: 0.0160 - mse: 0.0160\n",
      "Epoch 26/100\n",
      "200/200 [==============================] - 1s 3ms/step - loss: 0.0154 - mse: 0.0154\n",
      "Epoch 27/100\n",
      "200/200 [==============================] - 1s 3ms/step - loss: 0.0148 - mse: 0.0148\n",
      "Epoch 28/100\n",
      "200/200 [==============================] - 1s 3ms/step - loss: 0.0143 - mse: 0.0143\n",
      "Epoch 29/100\n",
      "200/200 [==============================] - 1s 3ms/step - loss: 0.0138 - mse: 0.0138\n",
      "Epoch 30/100\n",
      "200/200 [==============================] - 1s 3ms/step - loss: 0.0133 - mse: 0.0133\n",
      "Epoch 31/100\n",
      "200/200 [==============================] - 1s 3ms/step - loss: 0.0129 - mse: 0.0129\n",
      "Epoch 32/100\n",
      "200/200 [==============================] - 1s 3ms/step - loss: 0.0126 - mse: 0.0126\n",
      "Epoch 33/100\n",
      "200/200 [==============================] - 1s 3ms/step - loss: 0.0122 - mse: 0.0122\n",
      "Epoch 34/100\n",
      "200/200 [==============================] - 1s 3ms/step - loss: 0.0119 - mse: 0.0119\n",
      "Epoch 35/100\n",
      "200/200 [==============================] - 1s 3ms/step - loss: 0.0116 - mse: 0.0116\n",
      "Epoch 36/100\n",
      "200/200 [==============================] - 1s 3ms/step - loss: 0.0113 - mse: 0.0113\n",
      "Epoch 37/100\n",
      "200/200 [==============================] - 1s 3ms/step - loss: 0.0111 - mse: 0.0111\n",
      "Epoch 38/100\n",
      "200/200 [==============================] - 1s 3ms/step - loss: 0.0108 - mse: 0.0108\n",
      "Epoch 39/100\n",
      "200/200 [==============================] - 1s 3ms/step - loss: 0.0106 - mse: 0.0106\n",
      "Epoch 40/100\n",
      "200/200 [==============================] - 1s 3ms/step - loss: 0.0104 - mse: 0.0104\n",
      "Epoch 41/100\n",
      "200/200 [==============================] - 1s 3ms/step - loss: 0.0102 - mse: 0.0102\n",
      "Epoch 42/100\n",
      "200/200 [==============================] - 1s 3ms/step - loss: 0.0101 - mse: 0.0101\n",
      "Epoch 43/100\n",
      "200/200 [==============================] - 1s 3ms/step - loss: 0.0099 - mse: 0.0099\n",
      "Epoch 44/100\n",
      "200/200 [==============================] - 1s 3ms/step - loss: 0.0098 - mse: 0.0098\n",
      "Epoch 45/100\n",
      "200/200 [==============================] - 1s 3ms/step - loss: 0.0096 - mse: 0.0096\n",
      "Epoch 46/100\n",
      "200/200 [==============================] - 1s 3ms/step - loss: 0.0095 - mse: 0.0095\n",
      "Epoch 47/100\n",
      "200/200 [==============================] - 1s 3ms/step - loss: 0.0094 - mse: 0.0094\n",
      "Epoch 48/100\n",
      "200/200 [==============================] - 1s 3ms/step - loss: 0.0093 - mse: 0.0093\n",
      "Epoch 49/100\n",
      "200/200 [==============================] - 1s 3ms/step - loss: 0.0092 - mse: 0.0092\n",
      "Epoch 50/100\n",
      "200/200 [==============================] - 1s 3ms/step - loss: 0.0091 - mse: 0.0091\n",
      "Epoch 51/100\n",
      "200/200 [==============================] - 1s 3ms/step - loss: 0.0090 - mse: 0.0090\n",
      "Epoch 52/100\n",
      "200/200 [==============================] - 1s 3ms/step - loss: 0.0089 - mse: 0.0089\n",
      "Epoch 53/100\n",
      "200/200 [==============================] - 1s 3ms/step - loss: 0.0089 - mse: 0.0089\n",
      "Epoch 54/100\n",
      "200/200 [==============================] - 1s 3ms/step - loss: 0.0088 - mse: 0.0088\n",
      "Epoch 55/100\n",
      "200/200 [==============================] - 1s 3ms/step - loss: 0.0087 - mse: 0.0087\n",
      "Epoch 56/100\n",
      "200/200 [==============================] - 1s 3ms/step - loss: 0.0087 - mse: 0.0087\n",
      "Epoch 57/100\n",
      "200/200 [==============================] - 1s 3ms/step - loss: 0.0086 - mse: 0.0086\n",
      "Epoch 58/100\n",
      "200/200 [==============================] - 1s 3ms/step - loss: 0.0086 - mse: 0.0086\n",
      "Epoch 59/100\n",
      "200/200 [==============================] - 1s 3ms/step - loss: 0.0085 - mse: 0.0085\n",
      "Epoch 60/100\n",
      "200/200 [==============================] - 1s 3ms/step - loss: 0.0085 - mse: 0.0085\n",
      "Epoch 61/100\n",
      "200/200 [==============================] - 1s 3ms/step - loss: 0.0085 - mse: 0.0085\n",
      "Epoch 62/100\n",
      "200/200 [==============================] - 1s 3ms/step - loss: 0.0084 - mse: 0.0084\n",
      "Epoch 63/100\n",
      "200/200 [==============================] - 1s 3ms/step - loss: 0.0084 - mse: 0.0084\n",
      "Epoch 64/100\n",
      "200/200 [==============================] - 1s 3ms/step - loss: 0.0084 - mse: 0.0084\n",
      "Epoch 65/100\n",
      "200/200 [==============================] - 1s 3ms/step - loss: 0.0083 - mse: 0.0083\n",
      "Epoch 66/100\n",
      "200/200 [==============================] - 1s 3ms/step - loss: 0.0083 - mse: 0.0083\n",
      "Epoch 67/100\n",
      "200/200 [==============================] - 1s 3ms/step - loss: 0.0083 - mse: 0.0083\n",
      "Epoch 68/100\n",
      "200/200 [==============================] - 1s 3ms/step - loss: 0.0083 - mse: 0.0083\n",
      "Epoch 69/100\n",
      "200/200 [==============================] - 1s 3ms/step - loss: 0.0082 - mse: 0.0082\n",
      "Epoch 70/100\n",
      "200/200 [==============================] - 1s 3ms/step - loss: 0.0082 - mse: 0.0082\n",
      "Epoch 71/100\n",
      "200/200 [==============================] - 1s 3ms/step - loss: 0.0082 - mse: 0.0082\n",
      "Epoch 72/100\n",
      "200/200 [==============================] - 1s 3ms/step - loss: 0.0082 - mse: 0.0082\n",
      "Epoch 73/100\n",
      "200/200 [==============================] - 1s 3ms/step - loss: 0.0082 - mse: 0.0082\n",
      "Epoch 74/100\n",
      "200/200 [==============================] - 1s 3ms/step - loss: 0.0082 - mse: 0.0082\n",
      "Epoch 75/100\n",
      "200/200 [==============================] - 1s 3ms/step - loss: 0.0081 - mse: 0.0081\n",
      "Epoch 76/100\n",
      "200/200 [==============================] - 1s 3ms/step - loss: 0.0081 - mse: 0.0081\n",
      "Epoch 77/100\n",
      "200/200 [==============================] - 1s 3ms/step - loss: 0.0081 - mse: 0.0081\n",
      "Epoch 78/100\n",
      "200/200 [==============================] - 1s 3ms/step - loss: 0.0081 - mse: 0.0081\n",
      "Epoch 79/100\n",
      "200/200 [==============================] - 1s 3ms/step - loss: 0.0081 - mse: 0.0081\n",
      "Epoch 80/100\n",
      "200/200 [==============================] - 1s 3ms/step - loss: 0.0081 - mse: 0.0081\n",
      "Epoch 81/100\n",
      "200/200 [==============================] - 1s 3ms/step - loss: 0.0081 - mse: 0.0081\n",
      "Epoch 82/100\n",
      "200/200 [==============================] - 1s 3ms/step - loss: 0.0081 - mse: 0.0081\n",
      "Epoch 83/100\n",
      "200/200 [==============================] - 1s 3ms/step - loss: 0.0081 - mse: 0.0081\n",
      "Epoch 84/100\n",
      "200/200 [==============================] - 1s 3ms/step - loss: 0.0081 - mse: 0.0081\n",
      "Epoch 85/100\n",
      "200/200 [==============================] - 1s 3ms/step - loss: 0.0081 - mse: 0.0081\n",
      "Epoch 86/100\n",
      "200/200 [==============================] - 1s 3ms/step - loss: 0.0080 - mse: 0.0080\n",
      "Epoch 87/100\n",
      "200/200 [==============================] - 1s 3ms/step - loss: 0.0080 - mse: 0.0080\n",
      "Epoch 88/100\n",
      "200/200 [==============================] - 1s 3ms/step - loss: 0.0080 - mse: 0.0080\n",
      "Epoch 89/100\n",
      "200/200 [==============================] - 1s 3ms/step - loss: 0.0080 - mse: 0.0080\n",
      "Epoch 90/100\n",
      "200/200 [==============================] - 1s 3ms/step - loss: 0.0080 - mse: 0.0080\n",
      "Epoch 91/100\n",
      "200/200 [==============================] - 1s 3ms/step - loss: 0.0080 - mse: 0.0080\n",
      "Epoch 92/100\n",
      "200/200 [==============================] - 1s 3ms/step - loss: 0.0080 - mse: 0.0080\n",
      "Epoch 93/100\n",
      "200/200 [==============================] - 1s 3ms/step - loss: 0.0080 - mse: 0.0080\n",
      "Epoch 94/100\n",
      "200/200 [==============================] - 1s 3ms/step - loss: 0.0080 - mse: 0.0080\n",
      "Epoch 95/100\n",
      "200/200 [==============================] - 1s 3ms/step - loss: 0.0080 - mse: 0.0080\n",
      "Epoch 96/100\n",
      "200/200 [==============================] - 1s 3ms/step - loss: 0.0080 - mse: 0.0080\n",
      "Epoch 97/100\n",
      "200/200 [==============================] - 1s 3ms/step - loss: 0.0080 - mse: 0.0080\n",
      "Epoch 98/100\n",
      "200/200 [==============================] - 1s 3ms/step - loss: 0.0080 - mse: 0.0080\n",
      "Epoch 99/100\n",
      "200/200 [==============================] - 1s 3ms/step - loss: 0.0080 - mse: 0.0080\n",
      "Epoch 100/100\n",
      "200/200 [==============================] - 1s 3ms/step - loss: 0.0080 - mse: 0.0080\n"
     ]
    },
    {
     "data": {
      "text/plain": [
       "<keras.callbacks.History at 0xd414b9f5b0>"
      ]
     },
     "execution_count": 18,
     "metadata": {},
     "output_type": "execute_result"
    }
   ],
   "source": [
    "model.fit(x,y,batch_size = 1, epochs = 100, shuffle=False)"
   ]
  },
  {
   "cell_type": "code",
   "execution_count": 19,
   "id": "cdd30297",
   "metadata": {},
   "outputs": [],
   "source": [
    "weights = model.layers[0].get_weights()"
   ]
  },
  {
   "cell_type": "code",
   "execution_count": 20,
   "id": "877a61db",
   "metadata": {},
   "outputs": [],
   "source": [
    "w_final = weights[0][0][0]"
   ]
  },
  {
   "cell_type": "code",
   "execution_count": 21,
   "id": "0c2fa068",
   "metadata": {},
   "outputs": [],
   "source": [
    "b_final = weights[1][0]"
   ]
  },
  {
   "cell_type": "code",
   "execution_count": 22,
   "id": "75150ac4",
   "metadata": {},
   "outputs": [
    {
     "name": "stdout",
     "output_type": "stream",
     "text": [
      "Linear regression model is trained to have weights w: 3.95, b:0.23\n"
     ]
    }
   ],
   "source": [
    "print('Linear regression model is trained to have weights w: %.2f, b:%.2f' % (w_final, b_final))"
   ]
  },
  {
   "cell_type": "code",
   "execution_count": 23,
   "id": "dfcf207e",
   "metadata": {},
   "outputs": [],
   "source": [
    "predict = model.predict(data)"
   ]
  },
  {
   "cell_type": "markdown",
   "id": "fe8760fd",
   "metadata": {},
   "source": [
    "### Prediction"
   ]
  },
  {
   "cell_type": "code",
   "execution_count": 26,
   "id": "46c3c589",
   "metadata": {},
   "outputs": [
    {
     "data": {
      "image/png": "[encoded data removed]",
      "text/plain": [
       "<Figure size 432x288 with 1 Axes>"
      ]
     },
     "metadata": {
      "needs_background": "light"
     },
     "output_type": "display_data"
    }
   ],
   "source": [
    "plt.plot(data, predict,'b', data, y, 'k.')\n",
    "plt.show()"
   ]
  },
  {
   "cell_type": "code",
   "execution_count": 25,
   "id": "2cd19684",
   "metadata": {},
   "outputs": [],
   "source": []
  },
  {
   "cell_type": "code",
   "execution_count": null,
   "id": "fe466923",
   "metadata": {},
   "outputs": [],
   "source": []
  }
 ],
 "metadata": {
  "kernelspec": {
   "display_name": "keras1",
   "language": "python",
   "name": "keras1"
  },
  "language_info": {
   "codemirror_mode": {
    "name": "ipython",
    "version": 3
   },
   "file_extension": ".py",
   "mimetype": "text/x-python",
   "name": "python",
   "nbconvert_exporter": "python",
   "pygments_lexer": "ipython3",
   "version": "3.9.7"
  }
 },
 "nbformat": 4,
 "nbformat_minor": 5
}
